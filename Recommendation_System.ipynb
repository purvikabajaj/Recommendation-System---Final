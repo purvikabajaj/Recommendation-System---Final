{
  "nbformat": 4,
  "nbformat_minor": 0,
  "metadata": {
    "colab": {
      "name": "Recommendation_System.ipynb",
      "provenance": [],
      "collapsed_sections": []
    },
    "kernelspec": {
      "name": "python3",
      "display_name": "Python 3"
    }
  },
  "cells": [
    {
      "cell_type": "code",
      "metadata": {
        "id": "opqmk18ITKHe",
        "colab_type": "code",
        "colab": {}
      },
      "source": [
        "import pickle\n",
        "import numpy as np\n",
        "from sklearn.metrics.pairwise import cosine_similarity\n",
        "import pandas as pd"
      ],
      "execution_count": 136,
      "outputs": []
    },
    {
      "cell_type": "code",
      "metadata": {
        "id": "skIliYllUvZC",
        "colab_type": "code",
        "colab": {
          "base_uri": "https://localhost:8080/",
          "height": 119
        },
        "outputId": "4b9e9f49-0481-4e4c-e6cb-9324079a3aac"
      },
      "source": [
        "df = pd.read_csv('preprocessing.csv')\n",
        "events = df.iloc[:,3:]\n",
        "print(events.head())"
      ],
      "execution_count": 137,
      "outputs": [
        {
          "output_type": "stream",
          "text": [
            "   Event1  Event2\n",
            "0       7       5\n",
            "1       0      11\n",
            "2       6       4\n",
            "3       1      11\n",
            "4       3       0\n"
          ],
          "name": "stdout"
        }
      ]
    },
    {
      "cell_type": "code",
      "metadata": {
        "id": "swbq_LOvU128",
        "colab_type": "code",
        "colab": {
          "base_uri": "https://localhost:8080/",
          "height": 71
        },
        "outputId": "1e9d38d2-0ac2-4fbc-b3df-37e0ebede8dc"
      },
      "source": [
        "eve = pickle.load(open('eve.pickle','rb'))\n",
        "dom = pickle.load(open('dom.pickle','rb'))\n",
        "\n",
        "ev = []\n",
        "d = []\n",
        "s = input('Enter the sentence: ')\n",
        "\n",
        "for i in eve:\n",
        "\tif i in s:\n",
        "\t\tev.append(i)\n",
        "\n",
        "for j in dom:\n",
        "    if j in s:\n",
        "        d.append(j)\n",
        "\n",
        "print(dom)"
      ],
      "execution_count": 138,
      "outputs": [
        {
          "output_type": "stream",
          "text": [
            "Enter the sentence: CodeBoost codeathon is live now!\n",
            "{'artificial intelligence': 0, 'blockchain': 1, 'c': 2, 'c++': 3, 'cloud computing': 4, 'coding': 5, 'data science': 6, 'development processes': 7, 'finance': 8, 'hardware': 9, 'higher education': 10, 'iot': 11, 'java': 12, 'javascript': 13, 'machine learning': 14, 'management': 15, 'mobile applications': 16, 'networking': 17, 'other': 18, 'python': 19, 'security': 20, 'software architecture': 21, 'web development': 22}\n"
          ],
          "name": "stdout"
        }
      ]
    },
    {
      "cell_type": "code",
      "metadata": {
        "id": "KebJjgYRU8ka",
        "colab_type": "code",
        "colab": {
          "base_uri": "https://localhost:8080/",
          "height": 51
        },
        "outputId": "f22acd6f-b1db-446a-bd06-d0c4e98c34e0"
      },
      "source": [
        "#dom = input(\"enter the domain: \")\n",
        "event1 = input(\"Enter Event 1: \")\n",
        "event2 = input(\"Enter Event 2: \")\n",
        "\n",
        "#dom = domains[dom.lower()]\n",
        "\n",
        "event1 = eve[event1.lower()]\n",
        "event2 = eve[event2.lower()]"
      ],
      "execution_count": 139,
      "outputs": [
        {
          "output_type": "stream",
          "text": [
            "Enter Event 1: jobs\n",
            "Enter Event 2: hackathons\n"
          ],
          "name": "stdout"
        }
      ]
    },
    {
      "cell_type": "code",
      "metadata": {
        "id": "s7lBqNONVLA8",
        "colab_type": "code",
        "colab": {
          "base_uri": "https://localhost:8080/",
          "height": 34
        },
        "outputId": "360a8d41-6b4c-463b-87f4-e998498f8b96"
      },
      "source": [
        "similar_metrics = cosine_similarity(events)\n",
        "\n",
        "result = np.where(events == [event1,event2])[0][0]\n",
        "\n",
        "result = list(enumerate(similar_metrics[result]))\n",
        "result = sorted(result,key= lambda x: x[1],reverse=True)\n",
        "top = result[:5]\n",
        "\n",
        "lst = []\n",
        "\n",
        "for i in top:\n",
        "  a = (df['Name'].iloc[i[0]])\n",
        "  lst.append(a)\n",
        "\n",
        "print(s, '|', lst[0], ',' ,lst[1], ',' ,lst[2], ',', lst[3], ',', lst[4])"
      ],
      "execution_count": 140,
      "outputs": [
        {
          "output_type": "stream",
          "text": [
            "CodeBoost codeathon is live now! | Bryan Brock , Laura Hurst , Derek Schmidt , Andrea Thompson , Tracy Wilson\n"
          ],
          "name": "stdout"
        }
      ]
    },
    {
      "cell_type": "code",
      "metadata": {
        "id": "_FJQBbjWsJzm",
        "colab_type": "code",
        "colab": {
          "base_uri": "https://localhost:8080/",
          "height": 80
        },
        "outputId": "f7178572-fdb9-4e35-de40-a29d1f7705ed"
      },
      "source": [
        "df1 = pd.DataFrame([s], columns=['Event Name'])\n",
        "df1"
      ],
      "execution_count": 141,
      "outputs": [
        {
          "output_type": "execute_result",
          "data": {
            "text/html": [
              "<div>\n",
              "<style scoped>\n",
              "    .dataframe tbody tr th:only-of-type {\n",
              "        vertical-align: middle;\n",
              "    }\n",
              "\n",
              "    .dataframe tbody tr th {\n",
              "        vertical-align: top;\n",
              "    }\n",
              "\n",
              "    .dataframe thead th {\n",
              "        text-align: right;\n",
              "    }\n",
              "</style>\n",
              "<table border=\"1\" class=\"dataframe\">\n",
              "  <thead>\n",
              "    <tr style=\"text-align: right;\">\n",
              "      <th></th>\n",
              "      <th>Event Name</th>\n",
              "    </tr>\n",
              "  </thead>\n",
              "  <tbody>\n",
              "    <tr>\n",
              "      <th>0</th>\n",
              "      <td>CodeBoost codeathon is live now!</td>\n",
              "    </tr>\n",
              "  </tbody>\n",
              "</table>\n",
              "</div>"
            ],
            "text/plain": [
              "                         Event Name\n",
              "0  CodeBoost codeathon is live now!"
            ]
          },
          "metadata": {
            "tags": []
          },
          "execution_count": 141
        }
      ]
    },
    {
      "cell_type": "code",
      "metadata": {
        "id": "8U_bVP2tuyz2",
        "colab_type": "code",
        "colab": {
          "base_uri": "https://localhost:8080/",
          "height": 80
        },
        "outputId": "1bc94356-9246-4b39-8f20-ea4de04acb93"
      },
      "source": [
        "df1['Employee Name'] = [lst]\n",
        "df1"
      ],
      "execution_count": 142,
      "outputs": [
        {
          "output_type": "execute_result",
          "data": {
            "text/html": [
              "<div>\n",
              "<style scoped>\n",
              "    .dataframe tbody tr th:only-of-type {\n",
              "        vertical-align: middle;\n",
              "    }\n",
              "\n",
              "    .dataframe tbody tr th {\n",
              "        vertical-align: top;\n",
              "    }\n",
              "\n",
              "    .dataframe thead th {\n",
              "        text-align: right;\n",
              "    }\n",
              "</style>\n",
              "<table border=\"1\" class=\"dataframe\">\n",
              "  <thead>\n",
              "    <tr style=\"text-align: right;\">\n",
              "      <th></th>\n",
              "      <th>Event Name</th>\n",
              "      <th>Employee Name</th>\n",
              "    </tr>\n",
              "  </thead>\n",
              "  <tbody>\n",
              "    <tr>\n",
              "      <th>0</th>\n",
              "      <td>CodeBoost codeathon is live now!</td>\n",
              "      <td>[Bryan Brock, Laura Hurst, Derek Schmidt, Andr...</td>\n",
              "    </tr>\n",
              "  </tbody>\n",
              "</table>\n",
              "</div>"
            ],
            "text/plain": [
              "                         Event Name                                      Employee Name\n",
              "0  CodeBoost codeathon is live now!  [Bryan Brock, Laura Hurst, Derek Schmidt, Andr..."
            ]
          },
          "metadata": {
            "tags": []
          },
          "execution_count": 142
        }
      ]
    },
    {
      "cell_type": "code",
      "metadata": {
        "id": "jmqRRiNp2XXj",
        "colab_type": "code",
        "colab": {
          "base_uri": "https://localhost:8080/",
          "height": 34
        },
        "outputId": "57ef2d07-2b84-4de5-f927-a0d686f05693"
      },
      "source": [
        "def converttostr(input_seq, seperator):\n",
        "   final_str = seperator.join(input_seq)\n",
        "   return final_str\n",
        "\n",
        "seperator = ', '\n",
        "print(\"Recommended Employees: \", converttostr(lst, seperator))"
      ],
      "execution_count": 143,
      "outputs": [
        {
          "output_type": "stream",
          "text": [
            "Recommended Employees:  Bryan Brock, Laura Hurst, Derek Schmidt, Andrea Thompson, Tracy Wilson\n"
          ],
          "name": "stdout"
        }
      ]
    },
    {
      "cell_type": "code",
      "metadata": {
        "id": "AzH1nBsg0fRk",
        "colab_type": "code",
        "colab": {}
      },
      "source": [
        "import xlwt \n",
        "from xlwt import Workbook \n",
        "  \n",
        "wb = Workbook() \n",
        "  \n",
        "sheet1 = wb.add_sheet('Sheet 1') "
      ],
      "execution_count": 144,
      "outputs": []
    },
    {
      "cell_type": "code",
      "metadata": {
        "id": "AON3eGSUfJTZ",
        "colab_type": "code",
        "colab": {}
      },
      "source": [
        "sheet1.write(0, 0, 'Event Name') \n",
        "sheet1.write(0, 1, 'Employee Name') \n",
        "sheet1.write(1, 0, s)\n",
        "sheet1.write(1, 1, converttostr(lst, seperator))"
      ],
      "execution_count": 145,
      "outputs": []
    },
    {
      "cell_type": "code",
      "metadata": {
        "id": "7aVZ1CMWfm7C",
        "colab_type": "code",
        "colab": {}
      },
      "source": [
        "wb.save('Result.xls')"
      ],
      "execution_count": 146,
      "outputs": []
    }
  ]
}